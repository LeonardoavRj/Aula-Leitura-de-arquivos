{
  "nbformat": 4,
  "nbformat_minor": 0,
  "metadata": {
    "colab": {
      "name": "Logica de Programação.ipynb",
      "provenance": [],
      "authorship_tag": "ABX9TyPt16QB4hg/35SwVFNbGV3/",
      "include_colab_link": true
    },
    "kernelspec": {
      "name": "python3",
      "display_name": "Python 3"
    },
    "language_info": {
      "name": "python"
    }
  },
  "cells": [
    {
      "cell_type": "markdown",
      "metadata": {
        "id": "view-in-github",
        "colab_type": "text"
      },
      "source": [
        "<a href=\"https://colab.research.google.com/github/LeonardoavRj/Aula-Leitura-de-arquivos/blob/master/Logica_de_Programa%C3%A7%C3%A3o.ipynb\" target=\"_parent\"><img src=\"https://colab.research.google.com/assets/colab-badge.svg\" alt=\"Open In Colab\"/></a>"
      ]
    },
    {
      "cell_type": "code",
      "metadata": {
        "id": "zJB_sqjPyYZU"
      },
      "source": [
        ""
      ],
      "execution_count": null,
      "outputs": []
    },
    {
      "cell_type": "markdown",
      "metadata": {
        "id": "4F7oe0VayqtI"
      },
      "source": [
        "# Fundamentos de Lõgica de Programação com Python\n"
      ]
    },
    {
      "cell_type": "markdown",
      "metadata": {
        "id": "XfX1P-ZrzBXp"
      },
      "source": [
        "## Tipo Inteiro\n"
      ]
    },
    {
      "cell_type": "code",
      "metadata": {
        "colab": {
          "base_uri": "https://localhost:8080/"
        },
        "id": "8HaMvKNUzIMi",
        "outputId": "64cb9540-65e3-453e-fe29-4d0f62978a20"
      },
      "source": [
        "type(1)"
      ],
      "execution_count": null,
      "outputs": [
        {
          "output_type": "execute_result",
          "data": {
            "text/plain": [
              "int"
            ]
          },
          "metadata": {
            "tags": []
          },
          "execution_count": 3
        }
      ]
    },
    {
      "cell_type": "code",
      "metadata": {
        "colab": {
          "base_uri": "https://localhost:8080/"
        },
        "id": "ehWM8SECzxyD",
        "outputId": "0b8ccec2-6059-496a-d831-6ebea9714147"
      },
      "source": [
        "1+2"
      ],
      "execution_count": null,
      "outputs": [
        {
          "output_type": "execute_result",
          "data": {
            "text/plain": [
              "3"
            ]
          },
          "metadata": {
            "tags": []
          },
          "execution_count": 4
        }
      ]
    },
    {
      "cell_type": "code",
      "metadata": {
        "colab": {
          "base_uri": "https://localhost:8080/"
        },
        "id": "K54FBgNf0BGJ",
        "outputId": "19d9670d-a2f7-4aee-a9e0-00d68b718f40"
      },
      "source": [
        "43%6"
      ],
      "execution_count": null,
      "outputs": [
        {
          "output_type": "execute_result",
          "data": {
            "text/plain": [
              "1"
            ]
          },
          "metadata": {
            "tags": []
          },
          "execution_count": 5
        }
      ]
    },
    {
      "cell_type": "code",
      "metadata": {
        "colab": {
          "base_uri": "https://localhost:8080/"
        },
        "id": "tRpZjZ2Q0GsS",
        "outputId": "dffa4423-41d1-4af0-c816-b81ecc959aa9"
      },
      "source": [
        "43/6"
      ],
      "execution_count": null,
      "outputs": [
        {
          "output_type": "execute_result",
          "data": {
            "text/plain": [
              "7.166666666666667"
            ]
          },
          "metadata": {
            "tags": []
          },
          "execution_count": 6
        }
      ]
    },
    {
      "cell_type": "code",
      "metadata": {
        "colab": {
          "base_uri": "https://localhost:8080/"
        },
        "id": "uK3wxUWT0OOL",
        "outputId": "09f28e6c-ef7f-4037-f20f-3586525506f8"
      },
      "source": [
        "43//6"
      ],
      "execution_count": null,
      "outputs": [
        {
          "output_type": "execute_result",
          "data": {
            "text/plain": [
              "7"
            ]
          },
          "metadata": {
            "tags": []
          },
          "execution_count": 7
        }
      ]
    },
    {
      "cell_type": "code",
      "metadata": {
        "colab": {
          "base_uri": "https://localhost:8080/"
        },
        "id": "boKhAcbO0Tt5",
        "outputId": "c336efbf-2975-448c-ef19-1b71e6ebb799"
      },
      "source": [
        "2**3"
      ],
      "execution_count": null,
      "outputs": [
        {
          "output_type": "execute_result",
          "data": {
            "text/plain": [
              "8"
            ]
          },
          "metadata": {
            "tags": []
          },
          "execution_count": 8
        }
      ]
    },
    {
      "cell_type": "code",
      "metadata": {
        "colab": {
          "base_uri": "https://localhost:8080/"
        },
        "id": "Jwt5ZNwh0bCm",
        "outputId": "b33b42ae-8594-4ded-b149-13e89ea6e56b"
      },
      "source": [
        "2**63-1"
      ],
      "execution_count": null,
      "outputs": [
        {
          "output_type": "execute_result",
          "data": {
            "text/plain": [
              "9223372036854775807"
            ]
          },
          "metadata": {
            "tags": []
          },
          "execution_count": 9
        }
      ]
    },
    {
      "cell_type": "code",
      "metadata": {
        "colab": {
          "base_uri": "https://localhost:8080/"
        },
        "id": "UhQkJz_T0m2T",
        "outputId": "3289badb-3277-4a37-855b-e86425127235"
      },
      "source": [
        "9223_372_036_854_775_807"
      ],
      "execution_count": null,
      "outputs": [
        {
          "output_type": "execute_result",
          "data": {
            "text/plain": [
              "9223372036854775807"
            ]
          },
          "metadata": {
            "tags": []
          },
          "execution_count": 10
        }
      ]
    },
    {
      "cell_type": "markdown",
      "metadata": {
        "id": "vwt6X5f504fp"
      },
      "source": [
        "#Tipo flutuante\n"
      ]
    },
    {
      "cell_type": "code",
      "metadata": {
        "colab": {
          "base_uri": "https://localhost:8080/"
        },
        "id": "G-dqS4xT0_aL",
        "outputId": "4a0af8be-7051-47e6-faaa-11d558749877"
      },
      "source": [
        "type(7.166666)"
      ],
      "execution_count": null,
      "outputs": [
        {
          "output_type": "execute_result",
          "data": {
            "text/plain": [
              "float"
            ]
          },
          "metadata": {
            "tags": []
          },
          "execution_count": 11
        }
      ]
    },
    {
      "cell_type": "code",
      "metadata": {
        "colab": {
          "base_uri": "https://localhost:8080/"
        },
        "id": "1F0gwb_81JRD",
        "outputId": "6efc71cc-107f-47cc-d8d9-2318c1e377f2"
      },
      "source": [
        "7.5+5,5.5-7,7.2*2,2.1**2,7.3/2"
      ],
      "execution_count": null,
      "outputs": [
        {
          "output_type": "execute_result",
          "data": {
            "text/plain": [
              "(12.5, -1.5, 14.4, 4.41, 3.65)"
            ]
          },
          "metadata": {
            "tags": []
          },
          "execution_count": 12
        }
      ]
    },
    {
      "cell_type": "markdown",
      "metadata": {
        "id": "Chkk9dhu16VS"
      },
      "source": [
        "# Variáveis\n"
      ]
    },
    {
      "cell_type": "code",
      "metadata": {
        "colab": {
          "base_uri": "https://localhost:8080/"
        },
        "id": "akkQydl_2DEp",
        "outputId": "37385a00-ecbc-47fd-b37a-57c206ea66cb"
      },
      "source": [
        "pi =3.1415\n",
        "raio =2\n",
        "pi * (raio**2)"
      ],
      "execution_count": null,
      "outputs": [
        {
          "output_type": "execute_result",
          "data": {
            "text/plain": [
              "12.566"
            ]
          },
          "metadata": {
            "tags": []
          },
          "execution_count": 15
        }
      ]
    },
    {
      "cell_type": "code",
      "metadata": {
        "colab": {
          "base_uri": "https://localhost:8080/"
        },
        "id": "tJtcfknS2jCC",
        "outputId": "0a761548-6b73-4f2c-cc11-402a7ef241ff"
      },
      "source": [
        "pi =3.1415\n",
        "raio =1\n",
        "pi * (raio**2)"
      ],
      "execution_count": null,
      "outputs": [
        {
          "output_type": "execute_result",
          "data": {
            "text/plain": [
              "3.1415"
            ]
          },
          "metadata": {
            "tags": []
          },
          "execution_count": 16
        }
      ]
    },
    {
      "cell_type": "markdown",
      "metadata": {
        "id": "x-u78aBQrscd"
      },
      "source": [
        "## Cadeia de Caracteres (String)\n"
      ]
    },
    {
      "cell_type": "code",
      "metadata": {
        "colab": {
          "base_uri": "https://localhost:8080/"
        },
        "id": "-oenkk9hr7hf",
        "outputId": "5152313f-02a4-406f-a3eb-27af8a4a2553"
      },
      "source": [
        "print ('Olá mundo')"
      ],
      "execution_count": null,
      "outputs": [
        {
          "output_type": "stream",
          "text": [
            "Olá mundo\n"
          ],
          "name": "stdout"
        }
      ]
    },
    {
      "cell_type": "code",
      "metadata": {
        "colab": {
          "base_uri": "https://localhost:8080/"
        },
        "id": "Ti-NL-iosHRt",
        "outputId": "35815c4f-4967-4f93-c742-9b5d992922fc"
      },
      "source": [
        "type('renzo'),type(\"Renzo\"),type(\"\"\"Renzo\"\"\"),type('''Renzo''')"
      ],
      "execution_count": null,
      "outputs": [
        {
          "output_type": "execute_result",
          "data": {
            "text/plain": [
              "(str, str, str, str)"
            ]
          },
          "metadata": {
            "tags": []
          },
          "execution_count": 3
        }
      ]
    },
    {
      "cell_type": "code",
      "metadata": {
        "colab": {
          "base_uri": "https://localhost:8080/",
          "height": 35
        },
        "id": "CVTSAzu8ssax",
        "outputId": "a0d14d26-2717-4cd0-e4cc-5072c94b45b0"
      },
      "source": [
        "nome = \"Renzo's name\"\n",
        "nome"
      ],
      "execution_count": null,
      "outputs": [
        {
          "output_type": "execute_result",
          "data": {
            "application/vnd.google.colaboratory.intrinsic+json": {
              "type": "string"
            },
            "text/plain": [
              "\"Renzo's name\""
            ]
          },
          "metadata": {
            "tags": []
          },
          "execution_count": 6
        }
      ]
    },
    {
      "cell_type": "code",
      "metadata": {
        "colab": {
          "base_uri": "https://localhost:8080/"
        },
        "id": "1hN2dhShvM54",
        "outputId": "b72e14c1-bc90-4db7-d9e3-8a2f42f4febd"
      },
      "source": [
        "nome = '''Renzo \n",
        "Nuccitelli'''\n",
        "print(nome)"
      ],
      "execution_count": null,
      "outputs": [
        {
          "output_type": "stream",
          "text": [
            "Renzo \n",
            "Nuccitelli\n"
          ],
          "name": "stdout"
        }
      ]
    },
    {
      "cell_type": "markdown",
      "metadata": {
        "id": "gvnN4nqQvuZW"
      },
      "source": [
        "##Tipos Booleanos\n"
      ]
    },
    {
      "cell_type": "code",
      "metadata": {
        "colab": {
          "base_uri": "https://localhost:8080/"
        },
        "id": "75y2M9Ycv1Us",
        "outputId": "46b90b95-b610-4649-acc9-b29873de29a3"
      },
      "source": [
        "True,False, type(True), type(False)"
      ],
      "execution_count": null,
      "outputs": [
        {
          "output_type": "execute_result",
          "data": {
            "text/plain": [
              "(True, False, bool, bool)"
            ]
          },
          "metadata": {
            "tags": []
          },
          "execution_count": 10
        }
      ]
    },
    {
      "cell_type": "code",
      "metadata": {
        "colab": {
          "base_uri": "https://localhost:8080/"
        },
        "id": "SRB7TXuKwOz2",
        "outputId": "4609e136-3e77-4e76-b0f0-7105db1cf23a"
      },
      "source": [
        "not True, not False"
      ],
      "execution_count": null,
      "outputs": [
        {
          "output_type": "execute_result",
          "data": {
            "text/plain": [
              "(False, True)"
            ]
          },
          "metadata": {
            "tags": []
          },
          "execution_count": 13
        }
      ]
    },
    {
      "cell_type": "code",
      "metadata": {
        "colab": {
          "base_uri": "https://localhost:8080/"
        },
        "id": "EWRsw8oKwfS3",
        "outputId": "7196633e-a6bf-4267-939e-592e40499cfc"
      },
      "source": [
        "True and True, True and False , False and True, False and False"
      ],
      "execution_count": null,
      "outputs": [
        {
          "output_type": "execute_result",
          "data": {
            "text/plain": [
              "(True, False, False, False)"
            ]
          },
          "metadata": {
            "tags": []
          },
          "execution_count": 17
        }
      ]
    },
    {
      "cell_type": "code",
      "metadata": {
        "colab": {
          "base_uri": "https://localhost:8080/"
        },
        "id": "PYFdJrnMxBGn",
        "outputId": "e7073261-5375-42d0-d4c1-094c444cbad1"
      },
      "source": [
        "True or True, True or False , False or True, False or False"
      ],
      "execution_count": null,
      "outputs": [
        {
          "output_type": "execute_result",
          "data": {
            "text/plain": [
              "(True, True, True, False)"
            ]
          },
          "metadata": {
            "tags": []
          },
          "execution_count": 18
        }
      ]
    },
    {
      "cell_type": "code",
      "metadata": {
        "colab": {
          "base_uri": "https://localhost:8080/"
        },
        "id": "9zshXTOLxQqB",
        "outputId": "27246ef0-56a3-442d-a0b5-23a3e0f6b7a1"
      },
      "source": [
        "5 < 6, 5 >= 6, 5 == 4, 5 == 5, 5 != 4, 5 != 5, 'Renzo' == 'Renzo'"
      ],
      "execution_count": null,
      "outputs": [
        {
          "output_type": "execute_result",
          "data": {
            "text/plain": [
              "(True, False, False, True, True, False, True)"
            ]
          },
          "metadata": {
            "tags": []
          },
          "execution_count": 23
        }
      ]
    }
  ]
}